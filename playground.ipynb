{
 "cells": [
  {
   "cell_type": "code",
   "execution_count": 11,
   "metadata": {},
   "outputs": [],
   "source": [
    "from webull import webull\n",
    "import pandas as pd\n",
    "import numpy as np\n",
    "from matplotlib import pyplot as plt\n",
    "from matplotlib import cm\n",
    "from matplotlib.ticker import LinearLocator\n",
    "from datetime import datetime\n",
    "import my_quant_util"
   ]
  },
  {
   "cell_type": "code",
   "execution_count": 47,
   "metadata": {},
   "outputs": [
    {
     "name": "stdout",
     "output_type": "stream",
     "text": [
      "[{'id': 579915797732798464, 'brokerPosId': '69GAH44SHHJSCQ73T9U50J6ATB', 'brokerId': 8, 'tickerId': 1032386016, 'ticker': {'tickerId': 925418532, 'symbol': 'BILI', 'name': 'Bilibili', 'tinyName': 'Bilibili', 'listStatus': 1, 'exchangeCode': 'NSQ', 'exchangeId': 96, 'type': 2, 'regionId': 6, 'currencyId': 247, 'currencyCode': 'USD', 'secType': [61], 'disExchangeCode': 'NASDAQ', 'disSymbol': 'BILI'}, 'exchange': 'NSQ', 'position': '-3', 'assetType': 'OPTION', 'cost': '-21.00', 'costPrice': '0.0700', 'currency': 'USD', 'lastPrice': '0.0600', 'marketValue': '-18.00', 'unrealizedProfitLoss': '3.00', 'unrealizedProfitLossRate': '-0.1429', 'positionProportion': '0.1593', 'exchangeRate': '1', 'lastOpenTime': '05/16/2022 13:43:50 GMT', 'updatePositionTimeStamp': 1652708630742, 'shortType': 'ETB', 'interestDetail': {'shortType': 'ETB'}, 'lock': False}, {'id': 579915049888395264, 'brokerPosId': '1QG4RGJ2KDN4CHJIFF29GRMVAB', 'brokerId': 8, 'tickerId': 1031455337, 'ticker': {'tickerId': 925418532, 'symbol': 'BILI', 'name': 'Bilibili', 'tinyName': 'Bilibili', 'listStatus': 1, 'exchangeCode': 'NSQ', 'exchangeId': 96, 'type': 2, 'regionId': 6, 'currencyId': 247, 'currencyCode': 'USD', 'secType': [61], 'disExchangeCode': 'NASDAQ', 'disSymbol': 'BILI'}, 'exchange': 'NSQ', 'position': '-10', 'assetType': 'OPTION', 'cost': '-90.00', 'costPrice': '0.0900', 'currency': 'USD', 'lastPrice': '0.0750', 'marketValue': '-75.00', 'unrealizedProfitLoss': '15.00', 'unrealizedProfitLossRate': '-0.1667', 'positionProportion': '0.6637', 'exchangeRate': '1', 'lastOpenTime': '05/16/2022 13:40:52 GMT', 'updatePositionTimeStamp': 1652708452433, 'shortType': 'ETB', 'interestDetail': {'shortType': 'ETB'}, 'lock': False}, {'id': 579915049888395265, 'brokerPosId': 'ASJGRATD8861CNSBMJMQGKVVUB', 'brokerId': 8, 'tickerId': 1032359501, 'ticker': {'tickerId': 925418532, 'symbol': 'BILI', 'name': 'Bilibili', 'tinyName': 'Bilibili', 'listStatus': 1, 'exchangeCode': 'NSQ', 'exchangeId': 96, 'type': 2, 'regionId': 6, 'currencyId': 247, 'currencyCode': 'USD', 'secType': [61], 'disExchangeCode': 'NASDAQ', 'disSymbol': 'BILI'}, 'exchange': 'NSQ', 'position': '10', 'assetType': 'OPTION', 'cost': '40.00', 'costPrice': '0.0400', 'currency': 'USD', 'lastPrice': '0.0200', 'marketValue': '20.00', 'unrealizedProfitLoss': '-20.00', 'unrealizedProfitLossRate': '-0.5000', 'positionProportion': '0.1770', 'exchangeRate': '1', 'lastOpenTime': '05/16/2022 13:40:52 GMT', 'updatePositionTimeStamp': 1652708452433, 'lock': False}]\n"
     ]
    }
   ],
   "source": [
    "positions=wb.get_positions()\n",
    "option_positions=my_quant_util.get_option_positions(positions,wb)\n",
    "print(positions)"
   ]
  },
  {
   "cell_type": "code",
   "execution_count": 20,
   "metadata": {},
   "outputs": [
    {
     "data": {
      "text/plain": [
       "{'tickerId': 925418532,\n",
       " 'name': 'Bilibili',\n",
       " 'symbol': 'BILI',\n",
       " 'disSymbol': 'BILI',\n",
       " 'exchangeCode': 'NSQ',\n",
       " 'disExchangeCode': 'NASDAQ',\n",
       " 'tickerType': 2,\n",
       " 'data': [{'open': '0.07',\n",
       "   'high': '0.07',\n",
       "   'low': '0.05',\n",
       "   'strikePrice': '14.5',\n",
       "   'preClose': '0.13',\n",
       "   'openInterest': 13,\n",
       "   'volume': '204',\n",
       "   'latestPriceVol': '1',\n",
       "   'delta': '-0.0281',\n",
       "   'vega': '0.0013',\n",
       "   'impVol': '1.9458',\n",
       "   'gamma': '0.0160',\n",
       "   'theta': '-0.0289',\n",
       "   'rho': '-0.0001',\n",
       "   'close': '0.05',\n",
       "   'change': '-0.08',\n",
       "   'changeRatio': '-0.6154',\n",
       "   'expireDate': '2022-05-20',\n",
       "   'tickerId': 1032386016,\n",
       "   'belongTickerId': 925418532,\n",
       "   'openIntChange': 2,\n",
       "   'activeLevel': 13,\n",
       "   'cycle': 3,\n",
       "   'weekly': 0,\n",
       "   'executionType': 'A',\n",
       "   'direction': 'put',\n",
       "   'derivativeStatus': 0,\n",
       "   'currency': 'USD',\n",
       "   'currencyId': 247,\n",
       "   'regionId': 6,\n",
       "   'exchangeId': 189,\n",
       "   'symbol': 'BILI220520P00014500',\n",
       "   'unSymbol': 'BILI',\n",
       "   'askList': [{'price': '0.08', 'volume': '78'}],\n",
       "   'bidList': [{'price': '0.04', 'volume': '159'}],\n",
       "   'quoteMultiplier': 100,\n",
       "   'quoteLotSize': 100,\n",
       "   'tradeTime': '2022-05-16T19:02:47.000+0000',\n",
       "   'tradeStatus': 'D',\n",
       "   'tradeStamp': 1652735410022}]}"
      ]
     },
     "execution_count": 20,
     "metadata": {},
     "output_type": "execute_result"
    }
   ],
   "source": [
    "wb.get_option_quote(stock='BILI',optionId='1032386016')"
   ]
  },
  {
   "cell_type": "code",
   "execution_count": 43,
   "metadata": {},
   "outputs": [
    {
     "name": "stdout",
     "output_type": "stream",
     "text": [
      "3\n"
     ]
    }
   ],
   "source": [
    "from datetime import date\n",
    "date1=datetime.now().strftime('%Y-%m-%d')\n",
    "date2='2022-05-20'\n",
    "date4=date(int(date1[0:4]), int(date1[5:7]), int(date1[8:10]))\n",
    "date3=date(int(date2[0:4]), int(date2[5:7]), int(date2[8:10]))\n",
    "print((date3-date4).days)\n",
    "#print(delta.days)\n",
    "#print(date)"
   ]
  },
  {
   "cell_type": "code",
   "execution_count": 50,
   "metadata": {},
   "outputs": [
    {
     "data": {
      "text/plain": [
       "[{'strikePrice': '20',\n",
       "  'call': {'strikePrice': '20',\n",
       "   'volume': '0',\n",
       "   'latestPriceVol': '0',\n",
       "   'expireDate': '2022-05-27',\n",
       "   'tickerId': 1031990894,\n",
       "   'belongTickerId': 925418532,\n",
       "   'activeLevel': 2,\n",
       "   'cycle': 2,\n",
       "   'weekly': 1,\n",
       "   'executionType': 'A',\n",
       "   'direction': 'call',\n",
       "   'derivativeStatus': 0,\n",
       "   'currencyId': 247,\n",
       "   'regionId': 6,\n",
       "   'exchangeId': 189,\n",
       "   'symbol': 'BILI220527C00020000',\n",
       "   'unSymbol': 'BILI',\n",
       "   'quoteMultiplier': 100,\n",
       "   'quoteLotSize': 100}}]"
      ]
     },
     "execution_count": 50,
     "metadata": {},
     "output_type": "execute_result"
    }
   ],
   "source": [
    "wb.get_options_by_strike_and_expire_date(stock='BILI',expireDate='2022-05-27',strike='20',direction='call')"
   ]
  },
  {
   "cell_type": "code",
   "execution_count": 59,
   "metadata": {},
   "outputs": [
    {
     "data": {
      "text/plain": [
       "True"
      ]
     },
     "execution_count": 59,
     "metadata": {},
     "output_type": "execute_result"
    }
   ],
   "source": [
    "#wb.place_order(stock='BILI',quant=100,price=8)\n",
    "wb.cancel_order(order_id='580208394653143040')"
   ]
  }
 ],
 "metadata": {
  "interpreter": {
   "hash": "31f2aee4e71d21fbe5cf8b01ff0e069b9275f58929596ceb00d14d90e3e16cd6"
  },
  "kernelspec": {
   "display_name": "Python 3.8.10 64-bit",
   "language": "python",
   "name": "python3"
  },
  "language_info": {
   "codemirror_mode": {
    "name": "ipython",
    "version": 3
   },
   "file_extension": ".py",
   "mimetype": "text/x-python",
   "name": "python",
   "nbconvert_exporter": "python",
   "pygments_lexer": "ipython3",
   "version": "3.8.10"
  },
  "orig_nbformat": 4
 },
 "nbformat": 4,
 "nbformat_minor": 2
}
